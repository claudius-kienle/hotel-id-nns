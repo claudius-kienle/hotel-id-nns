{
 "cells": [
  {
   "cell_type": "code",
   "execution_count": 7,
   "metadata": {},
   "outputs": [
    {
     "data": {
      "text/html": [
       "<div>\n",
       "<style scoped>\n",
       "    .dataframe tbody tr th:only-of-type {\n",
       "        vertical-align: middle;\n",
       "    }\n",
       "\n",
       "    .dataframe tbody tr th {\n",
       "        vertical-align: top;\n",
       "    }\n",
       "\n",
       "    .dataframe thead th {\n",
       "        text-align: right;\n",
       "    }\n",
       "</style>\n",
       "<table border=\"1\" class=\"dataframe\">\n",
       "  <thead>\n",
       "    <tr style=\"text-align: right;\">\n",
       "      <th></th>\n",
       "      <th>chain_id</th>\n",
       "      <th>hotel_id</th>\n",
       "    </tr>\n",
       "    <tr>\n",
       "      <th>path</th>\n",
       "      <th></th>\n",
       "      <th></th>\n",
       "    </tr>\n",
       "  </thead>\n",
       "  <tbody>\n",
       "    <tr>\n",
       "      <th>8000d59f6a3d765f.jpg</th>\n",
       "      <td>85</td>\n",
       "      <td>24607</td>\n",
       "    </tr>\n",
       "    <tr>\n",
       "      <th>8000febe81817f7f.jpg</th>\n",
       "      <td>6</td>\n",
       "      <td>25389</td>\n",
       "    </tr>\n",
       "    <tr>\n",
       "      <th>80053befc2d42fba.jpg</th>\n",
       "      <td>3</td>\n",
       "      <td>672</td>\n",
       "    </tr>\n",
       "    <tr>\n",
       "      <th>8007fa0a8fe89f9d.jpg</th>\n",
       "      <td>5</td>\n",
       "      <td>63866</td>\n",
       "    </tr>\n",
       "    <tr>\n",
       "      <th>800a4a6b6f6d2df6.jpg</th>\n",
       "      <td>0</td>\n",
       "      <td>12036</td>\n",
       "    </tr>\n",
       "    <tr>\n",
       "      <th>...</th>\n",
       "      <td>...</td>\n",
       "      <td>...</td>\n",
       "    </tr>\n",
       "    <tr>\n",
       "      <th>ffff8082ec219892.jpg</th>\n",
       "      <td>83</td>\n",
       "      <td>20544</td>\n",
       "    </tr>\n",
       "    <tr>\n",
       "      <th>ffff8200e50cc0f1.jpg</th>\n",
       "      <td>82</td>\n",
       "      <td>51053</td>\n",
       "    </tr>\n",
       "    <tr>\n",
       "      <th>ffff84129981a4a4.jpg</th>\n",
       "      <td>83</td>\n",
       "      <td>42842</td>\n",
       "    </tr>\n",
       "    <tr>\n",
       "      <th>ffff85015040c2af.jpg</th>\n",
       "      <td>82</td>\n",
       "      <td>6261</td>\n",
       "    </tr>\n",
       "    <tr>\n",
       "      <th>ffffc0c05f2820c1.jpg</th>\n",
       "      <td>79</td>\n",
       "      <td>58764</td>\n",
       "    </tr>\n",
       "  </tbody>\n",
       "</table>\n",
       "<p>97556 rows × 2 columns</p>\n",
       "</div>"
      ],
      "text/plain": [
       "                      chain_id  hotel_id\n",
       "path                                    \n",
       "8000d59f6a3d765f.jpg        85     24607\n",
       "8000febe81817f7f.jpg         6     25389\n",
       "80053befc2d42fba.jpg         3       672\n",
       "8007fa0a8fe89f9d.jpg         5     63866\n",
       "800a4a6b6f6d2df6.jpg         0     12036\n",
       "...                        ...       ...\n",
       "ffff8082ec219892.jpg        83     20544\n",
       "ffff8200e50cc0f1.jpg        82     51053\n",
       "ffff84129981a4a4.jpg        83     42842\n",
       "ffff85015040c2af.jpg        82      6261\n",
       "ffffc0c05f2820c1.jpg        79     58764\n",
       "\n",
       "[97556 rows x 2 columns]"
      ]
     },
     "execution_count": 7,
     "metadata": {},
     "output_type": "execute_result"
    },
    {
     "data": {
      "image/png": "[encoded data removed]",
      "text/plain": [
       "<Figure size 640x480 with 2 Axes>"
      ]
     },
     "metadata": {},
     "output_type": "display_data"
    }
   ],
   "source": [
    "import pandas as pd\n",
    "\n",
    "\n",
    "df = pd.read_csv(\"../../data/dataset/train.csv\")\n",
    "df.pop('timestamp')\n",
    "df = df.rename(columns={'chain': \"chain_id\", \"image\": \"path\"})\n",
    "df = df.set_index(\"path\")\n",
    "df.hist(bins=88)\n",
    "df"
   ]
  },
  {
   "cell_type": "code",
   "execution_count": 8,
   "metadata": {},
   "outputs": [],
   "source": [
    "from matplotlib import pyplot as plt\n",
    "import numpy as np\n",
    "import torch\n",
    "\n",
    "df_shuffled = df.sample(frac=1)\n",
    "train, val, test = np.split(df_shuffled, [int(0.7*len(df_shuffled)), int(0.9*len(df_shuffled))])\n",
    "test.hist(bins=88)\n",
    "val.hist(bins=88)\n",
    "test.hist(bins=88)\n",
    "\n",
    "train.to_csv(\"../../data/dataset/hotel_train_chain.csv\")\n",
    "val.to_csv(\"../../data/dataset/hotel_val_chain.csv\")\n",
    "test.to_csv(\"../../data/dataset/hotel_test_chain.csv\")"
   ]
  }
 ],
 "metadata": {
  "kernelspec": {
   "display_name": "Python 3.9.13 ('hotel-id-nns')",
   "language": "python",
   "name": "python3"
  },
  "language_info": {
   "codemirror_mode": {
    "name": "ipython",
    "version": 3
   },
   "file_extension": ".py",
   "mimetype": "text/x-python",
   "name": "python",
   "nbconvert_exporter": "python",
   "pygments_lexer": "ipython3",
   "version": "3.9.13"
  },
  "orig_nbformat": 4,
  "vscode": {
   "interpreter": {
    "hash": "c3bc5de4b0fae091630e426b1f4525872bd26091f27d855aeb6f005d56d1c757"
   }
  }
 },
 "nbformat": 4,
 "nbformat_minor": 2
}
