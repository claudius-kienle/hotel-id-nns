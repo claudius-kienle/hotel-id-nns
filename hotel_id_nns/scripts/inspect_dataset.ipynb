{
 "cells": [
  {
   "cell_type": "code",
   "execution_count": 19,
   "metadata": {},
   "outputs": [
    {
     "data": {
      "text/plain": [
       "array([<AxesSubplot: title={'center': 'Train'}, xlabel='index'>,\n",
       "       <AxesSubplot: title={'center': 'Val'}, xlabel='index'>,\n",
       "       <AxesSubplot: title={'center': 'Test'}, xlabel='index'>],\n",
       "      dtype=object)"
      ]
     },
     "execution_count": 19,
     "metadata": {},
     "output_type": "execute_result"
    },
    {
     "data": {
      "text/plain": [
       "<Figure size 640x480 with 0 Axes>"
      ]
     },
     "metadata": {},
     "output_type": "display_data"
    },
    {
     "data": {
      "image/png": "[encoded data removed]",
      "text/plain": [
       "<Figure size 640x480 with 3 Axes>"
      ]
     },
     "metadata": {},
     "output_type": "display_data"
    }
   ],
   "source": [
    "import pandas as pd\n",
    "\n",
    "df = pd.read_csv(\"../../data/dataset/train.csv\")\n",
    "n_chain_ids = df['chain'].nunique()\n",
    "\n",
    "def plot(path):\n",
    "    df_part = pd.read_csv(path, names=['path', 'chain_id'], sep=' ')\n",
    "    return df_part.chain_id.value_counts() / len(df_part)\n",
    "\n",
    "# df.hist('chain', bins=n_chain_ids)\n",
    "# from matplotlib import pyplot as plt\n",
    "# plt.title(\"Chain With 0-Class\")\n",
    "# plt.show()\n",
    "# \n",
    "# df[df.chain!=0].hist('chain', bins=n_chain_ids)\n",
    "# plt.title(\"Chain without 0-Class\")\n",
    "# plt.show()\n",
    "\n",
    "plt.figure()\n",
    "chain_ids = []\n",
    "chain_ids.append(plot(\"../../data/dataset/hotel_train_chain.csv\"))\n",
    "chain_ids.append(plot(\"../../data/dataset/hotel_val_chain.csv\"))\n",
    "chain_ids.append(plot(\"../../data/dataset/hotel_test_chain.csv\"))\n",
    "rel_freq = pd.concat(chain_ids, axis=1, keys=['Train', 'Val', 'Test']).reset_index()\n",
    "rel_freq = rel_freq.sort_values(by='index')\n",
    "rel_freq.plot.bar(x='index', subplots=True)\n",
    "# plt.legend()"
   ]
  },
  {
   "cell_type": "code",
   "execution_count": 6,
   "metadata": {},
   "outputs": [
    {
     "data": {
      "text/html": [
       "<div>\n",
       "<style scoped>\n",
       "    .dataframe tbody tr th:only-of-type {\n",
       "        vertical-align: middle;\n",
       "    }\n",
       "\n",
       "    .dataframe tbody tr th {\n",
       "        vertical-align: top;\n",
       "    }\n",
       "\n",
       "    .dataframe thead th {\n",
       "        text-align: right;\n",
       "    }\n",
       "</style>\n",
       "<table border=\"1\" class=\"dataframe\">\n",
       "  <thead>\n",
       "    <tr style=\"text-align: right;\">\n",
       "      <th></th>\n",
       "      <th>1</th>\n",
       "      <th>2</th>\n",
       "      <th>3</th>\n",
       "      <th>4</th>\n",
       "      <th>5</th>\n",
       "      <th>6</th>\n",
       "      <th>7</th>\n",
       "      <th>8</th>\n",
       "      <th>9</th>\n",
       "      <th>10</th>\n",
       "      <th>...</th>\n",
       "      <th>78</th>\n",
       "      <th>79</th>\n",
       "      <th>80</th>\n",
       "      <th>81</th>\n",
       "      <th>82</th>\n",
       "      <th>83</th>\n",
       "      <th>84</th>\n",
       "      <th>85</th>\n",
       "      <th>86</th>\n",
       "      <th>87</th>\n",
       "    </tr>\n",
       "  </thead>\n",
       "  <tbody>\n",
       "    <tr>\n",
       "      <th>chain_id</th>\n",
       "      <td>52.000000</td>\n",
       "      <td>41.000000</td>\n",
       "      <td>20.000000</td>\n",
       "      <td>31.000000</td>\n",
       "      <td>9.000000</td>\n",
       "      <td>86.000000</td>\n",
       "      <td>77.000000</td>\n",
       "      <td>72.000000</td>\n",
       "      <td>82.000000</td>\n",
       "      <td>84.000000</td>\n",
       "      <td>...</td>\n",
       "      <td>11.000000</td>\n",
       "      <td>10.000000</td>\n",
       "      <td>4.000000</td>\n",
       "      <td>18.000000</td>\n",
       "      <td>50.000000</td>\n",
       "      <td>2.000000</td>\n",
       "      <td>8.000000</td>\n",
       "      <td>48.000000</td>\n",
       "      <td>6.000000</td>\n",
       "      <td>5.000000</td>\n",
       "    </tr>\n",
       "    <tr>\n",
       "      <th>weights</th>\n",
       "      <td>0.000098</td>\n",
       "      <td>0.000126</td>\n",
       "      <td>0.000148</td>\n",
       "      <td>0.000167</td>\n",
       "      <td>0.000205</td>\n",
       "      <td>0.000241</td>\n",
       "      <td>0.000242</td>\n",
       "      <td>0.000264</td>\n",
       "      <td>0.000273</td>\n",
       "      <td>0.000327</td>\n",
       "      <td>...</td>\n",
       "      <td>0.028687</td>\n",
       "      <td>0.029834</td>\n",
       "      <td>0.031077</td>\n",
       "      <td>0.037293</td>\n",
       "      <td>0.062155</td>\n",
       "      <td>0.067805</td>\n",
       "      <td>0.093232</td>\n",
       "      <td>0.093232</td>\n",
       "      <td>0.093232</td>\n",
       "      <td>0.093232</td>\n",
       "    </tr>\n",
       "  </tbody>\n",
       "</table>\n",
       "<p>2 rows × 87 columns</p>\n",
       "</div>"
      ],
      "text/plain": [
       "                 1          2          3          4         5          6   \\\n",
       "chain_id  52.000000  41.000000  20.000000  31.000000  9.000000  86.000000   \n",
       "weights    0.000098   0.000126   0.000148   0.000167  0.000205   0.000241   \n",
       "\n",
       "                 7          8          9          10  ...         78  \\\n",
       "chain_id  77.000000  72.000000  82.000000  84.000000  ...  11.000000   \n",
       "weights    0.000242   0.000264   0.000273   0.000327  ...   0.028687   \n",
       "\n",
       "                 79        80         81         82        83        84  \\\n",
       "chain_id  10.000000  4.000000  18.000000  50.000000  2.000000  8.000000   \n",
       "weights    0.029834  0.031077   0.037293   0.062155  0.067805  0.093232   \n",
       "\n",
       "                 85        86        87  \n",
       "chain_id  48.000000  6.000000  5.000000  \n",
       "weights    0.093232  0.093232  0.093232  \n",
       "\n",
       "[2 rows x 87 columns]"
      ]
     },
     "execution_count": 6,
     "metadata": {},
     "output_type": "execute_result"
    }
   ],
   "source": [
    "df = pd.read_csv(\"../../data/dataset/chain_id_weights.csv\")\n",
    "weight_chains = df[1:].weights.sum()\n",
    "df = df[1:]\n",
    "df.weights = df.weights / weight_chains\n",
    "df.T"
   ]
  }
 ],
 "metadata": {
  "kernelspec": {
   "display_name": "Python 3.9.13 ('hotel-id-nns')",
   "language": "python",
   "name": "python3"
  },
  "language_info": {
   "codemirror_mode": {
    "name": "ipython",
    "version": 3
   },
   "file_extension": ".py",
   "mimetype": "text/x-python",
   "name": "python",
   "nbconvert_exporter": "python",
   "pygments_lexer": "ipython3",
   "version": "3.9.13"
  },
  "orig_nbformat": 4,
  "vscode": {
   "interpreter": {
    "hash": "c3bc5de4b0fae091630e426b1f4525872bd26091f27d855aeb6f005d56d1c757"
   }
  }
 },
 "nbformat": 4,
 "nbformat_minor": 2
}
